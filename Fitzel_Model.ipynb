{
 "cells": [
  {
   "cell_type": "code",
   "execution_count": 36,
   "id": "bdf3ee25",
   "metadata": {},
   "outputs": [],
   "source": [
    "import sklearn\n",
    "from sklearn.metrics import classification_report\n",
    "from sklearn.metrics import recall_score\n",
    "from sklearn.metrics import accuracy_score\n",
    "import re\n",
    "import sys\n",
    "import numpy as np\n",
    "from collections import Counter\n",
    "import torch\n",
    "from torch import nn, optim\n",
    "from tqdm.auto import tqdm, trange\n",
    "\n",
    "def parse_file(name):\n",
    "    fp = open(name,'r')\n",
    "    data = fp.read()\n",
    "    fp.close()\n",
    "    data = str(data).encode('latin-1','ignore')\n",
    "    return get_tokens(data.decode())\n",
    "\n",
    "def get_tokens(data):\n",
    "    data = data.replace('\\r', '')\n",
    "    data = data.replace('\\t', ' ')\n",
    "    data = data.lower()\n",
    "    re_fun = re.compile(r'([_.->\\w]+)\\s*\\([^)]*\\)')\n",
    "    re_var = re.compile(r'\\s*([_\\d\\w]*)(\\s*)=(\\s*)[^;]*')\n",
    "\n",
    "    \n",
    "    var_idx = 0 \n",
    "    func_idx = 0\n",
    "    words = []\n",
    "    for line in data.split('\\n'):  \n",
    "\n",
    "        s = re_var.search(line)\n",
    "        if s:\n",
    "            var_idx += 1\n",
    "            var_name = s.group(1)\n",
    "            line = re.compile(r'([_\\d\\w]+\\s*=\\s*)').sub('var%d = '% var_idx, line)\n",
    "\n",
    "        s = re_fun.search(line)\n",
    "        if s:\n",
    "            got_stmt = False\n",
    "            for st in ['if','for','while']:\n",
    "                if line.find(st) >=0:\n",
    "                    got_stmt = True\n",
    "                    break\n",
    "            if not got_stmt:\n",
    "                func_idx += 1\n",
    "                func = s.group(1)\n",
    "                line = line.replace('%s' % func, 'func%d' % func_idx)\n",
    "\n",
    "        chars = ['(', ')', '{', '}', '*', '/', '+', '-', '=', ';', ',']\n",
    "        for ch in chars:\n",
    "            line = line.replace(ch, ' %s ' % ch)\n",
    "\n",
    "        if line and len(line) >= 1:         \n",
    "            for w in line.split(' '):\n",
    "                w = w.strip()\n",
    "                if w:\n",
    "                    words.append(w) \n",
    "\n",
    "    return words\n"
   ]
  },
  {
   "cell_type": "code",
   "execution_count": 37,
   "id": "38e7d229",
   "metadata": {},
   "outputs": [],
   "source": [
    "import re\n",
    "import sys\n",
    "import numpy as np\n",
    "from collections import Counter\n",
    "import torch\n",
    "from torch import nn, optim\n",
    "from tqdm.auto import tqdm, trange\n",
    "import pickle\n",
    "\n",
    "import os\n",
    "import wandb\n",
    "\n",
    "from gensim.models import Word2Vec\n",
    "\n",
    "import glob\n",
    "import random\n",
    "\n",
    "sys.path.append('.')\n",
    "import preprocess as pr"
   ]
  },
  {
   "cell_type": "code",
   "execution_count": 122,
   "id": "6ed7a95f",
   "metadata": {},
   "outputs": [],
   "source": [
    "class CPP_Dataset(torch.utils.data.Dataset):\n",
    "    def __init__(self, dataset, wv):\n",
    "        with open(dataset, 'rb') as f:\n",
    "            self.ds = pickle.load(f)\n",
    "\n",
    "        self.maxlen = len(self.ds['vuln'])\n",
    "        self.wv = wv\n",
    "\n",
    "    def __len__(self):\n",
    "        return len(self.ds['vuln']) * 2\n",
    "\n",
    "    def get_lines(self, data):\n",
    "        return data.split('\\n')\n",
    "\n",
    "    def __getitem__(self, idx):\n",
    "        vuln = 1\n",
    "        ds = self.ds['vuln']\n",
    "\n",
    "        if idx >= self.maxlen:\n",
    "            idx = idx % self.maxlen\n",
    "            vuln = 0\n",
    "            ds = self.ds['notvuln']\n",
    "\n",
    "\n",
    "        data = ds[idx]\n",
    "        toks = pr.get_tokens(data)\n",
    "        if len(toks) >= 100:\n",
    "            toks = toks[:100]\n",
    "        else:\n",
    "            for i in range(100-len(toks)):\n",
    "                toks.append(';')\n",
    "\n",
    "        vectors = []\n",
    "        for tok in toks:\n",
    "            vec = None\n",
    "            try:\n",
    "                vec = self.wv[tok]\n",
    "            except:\n",
    "                vec = None\n",
    "            if vec is not None:\n",
    "                vectors.extend(vec)\n",
    "\n",
    "        vectors = vectors[:3000]\n",
    "        return torch.tensor(vectors), vuln\n",
    "\n",
    "\n",
    "class MLP_Model(nn.Module):\n",
    "    def __init__(self):\n",
    "        super().__init__()\n",
    "\n",
    "        self.fc1 = nn.Linear(30*100, 100)\n",
    "        self.fc2 = nn.Linear(100, 2)\n",
    "        self.relu = nn.LeakyReLU()\n",
    "\n",
    "\n",
    "    def forward(self,x ):\n",
    "        x = self.fc1(x)\n",
    "        x = self.relu(x)\n",
    "        x = self.fc2(x)\n",
    "        return x\n",
    "\n",
    "def train_mlp():\n",
    "    device = \"cuda\" if torch.cuda.is_available() else \"cpu\"\n",
    "\n",
    "    use_wandb = True\n",
    "    num_epochs = 100\n",
    "    os.environ['WANDB_CONSOLE']='off'\n",
    " \n",
    "    w2v_model = Word2Vec.load(\"word2vec_gensim.model\")\n",
    "\n",
    "    train_dataset = CPP_Dataset('dataset_train.bin', w2v_model.wv)\n",
    "    test_dataset = CPP_Dataset('dataset_val.bin', w2v_model.wv)\n",
    "    \n",
    "    train_dataloader = torch.utils.data.DataLoader(train_dataset, batch_size=64, shuffle=True)\n",
    "    test_dataloader = torch.utils.data.DataLoader(test_dataset, batch_size=64, shuffle=True)\n",
    "\n",
    "    model = MLP_Model()\n",
    "    if use_wandb:\n",
    "        wandb.login(key='', verify=True) \n",
    "        wandb.init(project='fitzel1')\n",
    "        wandb.watch(model)\n",
    "\n",
    "    criterion = nn.CrossEntropyLoss()\n",
    "    opt = optim.Adam(model.parameters(), lr=0.00003)\n",
    "    \n",
    "    print('Started training loop, using device %s' % device)\n",
    "\n",
    "    for epoch in range(num_epochs):\n",
    "        for inputs, targets in tqdm(train_dataloader,desc='Epoch'):\n",
    "            opt.zero_grad()\n",
    "            outputs = model(inputs)\n",
    "            loss = criterion(outputs, targets)   \n",
    "            loss.backward()\n",
    "            opt.step()\n",
    "\n",
    "        val_loss =[]\n",
    "        val_accuracy = []\n",
    "        cal_cal = []\n",
    "        acc_acc = []\n",
    "        with torch.no_grad():\n",
    "            for inputs, targets in tqdm(test_dataloader):\n",
    "                outputs = model(inputs)\n",
    "                loss = criterion(outputs, targets)\n",
    "                val_loss.append(loss.numpy())\n",
    "                \n",
    "                preds = outputs.argmax(axis=1)\n",
    "                targets = targets.to('cpu')\n",
    "                compare = (preds == targets).type(torch.float32)\n",
    "                val_accuracy.extend(compare.numpy().tolist())\n",
    "                rec = recall_score(targets, preds)\n",
    "                acc = accuracy_score(targets, preds)\n",
    "                cal_cal.append(rec)\n",
    "                acc_acc.append(acc)\n",
    "\n",
    "        if use_wandb:\n",
    "            wandb.log({'loss': np.mean(val_loss), 'accuracy': np.mean(acc_acc), 'recall': np.mean(cal_cal)})\n",
    "        \n",
    "        print(f\"Epoch: {epoch}, loss: {np.mean(val_loss)}, accuracy: {np.mean(val_accuracy)} \")\n",
    "\n",
    "    if use_wandb:\n",
    "        wandb.finish(quiet=True)\n",
    "\n"
   ]
  },
  {
   "cell_type": "code",
   "execution_count": 123,
   "id": "3229aa3a",
   "metadata": {},
   "outputs": [
    {
     "name": "stderr",
     "output_type": "stream",
     "text": [
      "\u001b[34m\u001b[1mwandb\u001b[0m: \u001b[33mWARNING\u001b[0m If you're specifying your api key in code, ensure this code is not shared publicly.\n",
      "\u001b[34m\u001b[1mwandb\u001b[0m: \u001b[33mWARNING\u001b[0m Consider setting the WANDB_API_KEY environment variable, or running `wandb login` from the command line.\n",
      "\u001b[34m\u001b[1mwandb\u001b[0m: Appending key for api.wandb.ai to your netrc file: /home/lera/.netrc\n"
     ]
    },
    {
     "data": {
      "text/html": [
       "Tracking run with wandb version 0.16.6"
      ],
      "text/plain": [
       "<IPython.core.display.HTML object>"
      ]
     },
     "metadata": {},
     "output_type": "display_data"
    },
    {
     "data": {
      "text/html": [
       "Run data is saved locally in <code>/home/lera/dist/fitzel/wandb/run-20240409_183225-jqxozdcv</code>"
      ],
      "text/plain": [
       "<IPython.core.display.HTML object>"
      ]
     },
     "metadata": {},
     "output_type": "display_data"
    },
    {
     "data": {
      "text/html": [
       "Syncing run <strong><a href='https://wandb.ai/fitzelproj/fitzel1/runs/jqxozdcv' target=\"_blank\">fallen-wildflower-76</a></strong> to <a href='https://wandb.ai/fitzelproj/fitzel1' target=\"_blank\">Weights & Biases</a> (<a href='https://wandb.me/run' target=\"_blank\">docs</a>)<br/>"
      ],
      "text/plain": [
       "<IPython.core.display.HTML object>"
      ]
     },
     "metadata": {},
     "output_type": "display_data"
    },
    {
     "data": {
      "text/html": [
       " View project at <a href='https://wandb.ai/fitzelproj/fitzel1' target=\"_blank\">https://wandb.ai/fitzelproj/fitzel1</a>"
      ],
      "text/plain": [
       "<IPython.core.display.HTML object>"
      ]
     },
     "metadata": {},
     "output_type": "display_data"
    },
    {
     "data": {
      "text/html": [
       " View run at <a href='https://wandb.ai/fitzelproj/fitzel1/runs/jqxozdcv' target=\"_blank\">https://wandb.ai/fitzelproj/fitzel1/runs/jqxozdcv</a>"
      ],
      "text/plain": [
       "<IPython.core.display.HTML object>"
      ]
     },
     "metadata": {},
     "output_type": "display_data"
    },
    {
     "name": "stdout",
     "output_type": "stream",
     "text": [
      "Started training loop, using device cuda\n"
     ]
    },
    {
     "name": "stderr",
     "output_type": "stream",
     "text": [
      "Epoch: 100%|███████████████████████████████████████████████████████████| 24/24 [00:02<00:00,  8.14it/s]\n",
      "100%|██████████████████████████████████████████████████████████████████| 24/24 [00:02<00:00,  8.16it/s]\n"
     ]
    },
    {
     "name": "stdout",
     "output_type": "stream",
     "text": [
      "Epoch: 0, loss: 0.689892590045929, accuracy: 0.532345013477089 \n"
     ]
    },
    {
     "name": "stderr",
     "output_type": "stream",
     "text": [
      "Epoch: 100%|███████████████████████████████████████████████████████████| 24/24 [00:02<00:00,  8.18it/s]\n",
      "100%|██████████████████████████████████████████████████████████████████| 24/24 [00:02<00:00,  8.16it/s]\n"
     ]
    },
    {
     "name": "stdout",
     "output_type": "stream",
     "text": [
      "Epoch: 1, loss: 0.6896448135375977, accuracy: 0.5586253369272237 \n"
     ]
    },
    {
     "name": "stderr",
     "output_type": "stream",
     "text": [
      "Epoch: 100%|███████████████████████████████████████████████████████████| 24/24 [00:02<00:00,  8.18it/s]\n",
      "100%|██████████████████████████████████████████████████████████████████| 24/24 [00:02<00:00,  8.15it/s]\n"
     ]
    },
    {
     "name": "stdout",
     "output_type": "stream",
     "text": [
      "Epoch: 2, loss: 0.6872966289520264, accuracy: 0.5384097035040432 \n"
     ]
    },
    {
     "name": "stderr",
     "output_type": "stream",
     "text": [
      "Epoch: 100%|███████████████████████████████████████████████████████████| 24/24 [00:02<00:00,  8.23it/s]\n",
      "100%|██████████████████████████████████████████████████████████████████| 24/24 [00:02<00:00,  8.17it/s]\n"
     ]
    },
    {
     "name": "stdout",
     "output_type": "stream",
     "text": [
      "Epoch: 3, loss: 0.6870853304862976, accuracy: 0.5545822102425876 \n"
     ]
    },
    {
     "name": "stderr",
     "output_type": "stream",
     "text": [
      "Epoch: 100%|███████████████████████████████████████████████████████████| 24/24 [00:02<00:00,  8.21it/s]\n",
      "100%|██████████████████████████████████████████████████████████████████| 24/24 [00:02<00:00,  8.17it/s]\n"
     ]
    },
    {
     "name": "stdout",
     "output_type": "stream",
     "text": [
      "Epoch: 4, loss: 0.6850956082344055, accuracy: 0.5444743935309974 \n"
     ]
    },
    {
     "name": "stderr",
     "output_type": "stream",
     "text": [
      "Epoch: 100%|███████████████████████████████████████████████████████████| 24/24 [00:02<00:00,  8.24it/s]\n",
      "100%|██████████████████████████████████████████████████████████████████| 24/24 [00:02<00:00,  8.13it/s]\n"
     ]
    },
    {
     "name": "stdout",
     "output_type": "stream",
     "text": [
      "Epoch: 5, loss: 0.6826789975166321, accuracy: 0.5505390835579514 \n"
     ]
    },
    {
     "name": "stderr",
     "output_type": "stream",
     "text": [
      "Epoch: 100%|███████████████████████████████████████████████████████████| 24/24 [00:02<00:00,  8.20it/s]\n",
      "100%|██████████████████████████████████████████████████████████████████| 24/24 [00:02<00:00,  8.19it/s]\n"
     ]
    },
    {
     "name": "stdout",
     "output_type": "stream",
     "text": [
      "Epoch: 6, loss: 0.6836205124855042, accuracy: 0.5518867924528302 \n"
     ]
    },
    {
     "name": "stderr",
     "output_type": "stream",
     "text": [
      "Epoch: 100%|███████████████████████████████████████████████████████████| 24/24 [00:02<00:00,  8.21it/s]\n",
      "100%|██████████████████████████████████████████████████████████████████| 24/24 [00:02<00:00,  8.19it/s]\n"
     ]
    },
    {
     "name": "stdout",
     "output_type": "stream",
     "text": [
      "Epoch: 7, loss: 0.6835619807243347, accuracy: 0.5316711590296496 \n"
     ]
    },
    {
     "name": "stderr",
     "output_type": "stream",
     "text": [
      "Epoch: 100%|███████████████████████████████████████████████████████████| 24/24 [00:02<00:00,  8.26it/s]\n",
      "100%|██████████████████████████████████████████████████████████████████| 24/24 [00:02<00:00,  8.18it/s]\n"
     ]
    },
    {
     "name": "stdout",
     "output_type": "stream",
     "text": [
      "Epoch: 8, loss: 0.6827642321586609, accuracy: 0.5539083557951483 \n"
     ]
    },
    {
     "name": "stderr",
     "output_type": "stream",
     "text": [
      "Epoch: 100%|███████████████████████████████████████████████████████████| 24/24 [00:02<00:00,  8.23it/s]\n",
      "100%|██████████████████████████████████████████████████████████████████| 24/24 [00:02<00:00,  8.20it/s]\n"
     ]
    },
    {
     "name": "stdout",
     "output_type": "stream",
     "text": [
      "Epoch: 9, loss: 0.682429313659668, accuracy: 0.5525606469002695 \n"
     ]
    },
    {
     "name": "stderr",
     "output_type": "stream",
     "text": [
      "Epoch: 100%|███████████████████████████████████████████████████████████| 24/24 [00:02<00:00,  8.23it/s]\n",
      "100%|██████████████████████████████████████████████████████████████████| 24/24 [00:02<00:00,  8.19it/s]\n"
     ]
    },
    {
     "name": "stdout",
     "output_type": "stream",
     "text": [
      "Epoch: 10, loss: 0.6808578372001648, accuracy: 0.5539083557951483 \n"
     ]
    },
    {
     "name": "stderr",
     "output_type": "stream",
     "text": [
      "Epoch: 100%|███████████████████████████████████████████████████████████| 24/24 [00:02<00:00,  8.21it/s]\n",
      "100%|██████████████████████████████████████████████████████████████████| 24/24 [00:02<00:00,  8.17it/s]\n"
     ]
    },
    {
     "name": "stdout",
     "output_type": "stream",
     "text": [
      "Epoch: 11, loss: 0.6804069876670837, accuracy: 0.5566037735849056 \n"
     ]
    },
    {
     "name": "stderr",
     "output_type": "stream",
     "text": [
      "Epoch: 100%|███████████████████████████████████████████████████████████| 24/24 [00:02<00:00,  8.21it/s]\n",
      "100%|██████████████████████████████████████████████████████████████████| 24/24 [00:02<00:00,  8.16it/s]\n"
     ]
    },
    {
     "name": "stdout",
     "output_type": "stream",
     "text": [
      "Epoch: 12, loss: 0.678595244884491, accuracy: 0.5566037735849056 \n"
     ]
    },
    {
     "name": "stderr",
     "output_type": "stream",
     "text": [
      "Epoch: 100%|███████████████████████████████████████████████████████████| 24/24 [00:02<00:00,  8.21it/s]\n",
      "100%|██████████████████████████████████████████████████████████████████| 24/24 [00:02<00:00,  8.14it/s]\n"
     ]
    },
    {
     "name": "stdout",
     "output_type": "stream",
     "text": [
      "Epoch: 13, loss: 0.676462709903717, accuracy: 0.5586253369272237 \n"
     ]
    },
    {
     "name": "stderr",
     "output_type": "stream",
     "text": [
      "Epoch: 100%|███████████████████████████████████████████████████████████| 24/24 [00:02<00:00,  8.18it/s]\n",
      "100%|██████████████████████████████████████████████████████████████████| 24/24 [00:02<00:00,  8.16it/s]\n"
     ]
    },
    {
     "name": "stdout",
     "output_type": "stream",
     "text": [
      "Epoch: 14, loss: 0.676930844783783, accuracy: 0.5545822102425876 \n"
     ]
    },
    {
     "name": "stderr",
     "output_type": "stream",
     "text": [
      "Epoch: 100%|███████████████████████████████████████████████████████████| 24/24 [00:02<00:00,  8.18it/s]\n",
      "100%|██████████████████████████████████████████████████████████████████| 24/24 [00:02<00:00,  8.16it/s]\n"
     ]
    },
    {
     "name": "stdout",
     "output_type": "stream",
     "text": [
      "Epoch: 15, loss: 0.6715347766876221, accuracy: 0.5714285714285714 \n"
     ]
    },
    {
     "name": "stderr",
     "output_type": "stream",
     "text": [
      "Epoch: 100%|███████████████████████████████████████████████████████████| 24/24 [00:02<00:00,  8.19it/s]\n",
      "100%|██████████████████████████████████████████████████████████████████| 24/24 [00:02<00:00,  8.17it/s]\n"
     ]
    },
    {
     "name": "stdout",
     "output_type": "stream",
     "text": [
      "Epoch: 16, loss: 0.6783072352409363, accuracy: 0.5586253369272237 \n"
     ]
    },
    {
     "name": "stderr",
     "output_type": "stream",
     "text": [
      "Epoch: 100%|███████████████████████████████████████████████████████████| 24/24 [00:02<00:00,  8.25it/s]\n",
      "100%|██████████████████████████████████████████████████████████████████| 24/24 [00:02<00:00,  8.18it/s]\n"
     ]
    },
    {
     "name": "stdout",
     "output_type": "stream",
     "text": [
      "Epoch: 17, loss: 0.668469250202179, accuracy: 0.5727762803234502 \n"
     ]
    },
    {
     "name": "stderr",
     "output_type": "stream",
     "text": [
      "Epoch: 100%|███████████████████████████████████████████████████████████| 24/24 [00:02<00:00,  8.23it/s]\n",
      "100%|██████████████████████████████████████████████████████████████████| 24/24 [00:02<00:00,  8.16it/s]\n"
     ]
    },
    {
     "name": "stdout",
     "output_type": "stream",
     "text": [
      "Epoch: 18, loss: 0.6683792471885681, accuracy: 0.5936657681940701 \n"
     ]
    },
    {
     "name": "stderr",
     "output_type": "stream",
     "text": [
      "Epoch: 100%|███████████████████████████████████████████████████████████| 24/24 [00:02<00:00,  8.17it/s]\n",
      "100%|██████████████████████████████████████████████████████████████████| 24/24 [00:02<00:00,  8.18it/s]\n"
     ]
    },
    {
     "name": "stdout",
     "output_type": "stream",
     "text": [
      "Epoch: 19, loss: 0.6673732399940491, accuracy: 0.5721024258760108 \n"
     ]
    },
    {
     "name": "stderr",
     "output_type": "stream",
     "text": [
      "Epoch: 100%|███████████████████████████████████████████████████████████| 24/24 [00:02<00:00,  8.24it/s]\n",
      "100%|██████████████████████████████████████████████████████████████████| 24/24 [00:02<00:00,  8.20it/s]\n"
     ]
    },
    {
     "name": "stdout",
     "output_type": "stream",
     "text": [
      "Epoch: 20, loss: 0.6675403714179993, accuracy: 0.578167115902965 \n"
     ]
    },
    {
     "name": "stderr",
     "output_type": "stream",
     "text": [
      "Epoch: 100%|███████████████████████████████████████████████████████████| 24/24 [00:02<00:00,  8.18it/s]\n",
      "100%|██████████████████████████████████████████████████████████████████| 24/24 [00:02<00:00,  8.15it/s]\n"
     ]
    },
    {
     "name": "stdout",
     "output_type": "stream",
     "text": [
      "Epoch: 21, loss: 0.6654353141784668, accuracy: 0.5835579514824798 \n"
     ]
    },
    {
     "name": "stderr",
     "output_type": "stream",
     "text": [
      "Epoch: 100%|███████████████████████████████████████████████████████████| 24/24 [00:02<00:00,  8.18it/s]\n",
      "100%|██████████████████████████████████████████████████████████████████| 24/24 [00:02<00:00,  8.12it/s]\n"
     ]
    },
    {
     "name": "stdout",
     "output_type": "stream",
     "text": [
      "Epoch: 22, loss: 0.6646400690078735, accuracy: 0.5835579514824798 \n"
     ]
    },
    {
     "name": "stderr",
     "output_type": "stream",
     "text": [
      "Epoch: 100%|███████████████████████████████████████████████████████████| 24/24 [00:02<00:00,  8.18it/s]\n",
      "100%|██████████████████████████████████████████████████████████████████| 24/24 [00:02<00:00,  8.15it/s]\n"
     ]
    },
    {
     "name": "stdout",
     "output_type": "stream",
     "text": [
      "Epoch: 23, loss: 0.6659345030784607, accuracy: 0.5855795148247979 \n"
     ]
    },
    {
     "name": "stderr",
     "output_type": "stream",
     "text": [
      "Epoch: 100%|███████████████████████████████████████████████████████████| 24/24 [00:02<00:00,  8.20it/s]\n",
      "100%|██████████████████████████████████████████████████████████████████| 24/24 [00:02<00:00,  8.15it/s]\n"
     ]
    },
    {
     "name": "stdout",
     "output_type": "stream",
     "text": [
      "Epoch: 24, loss: 0.6641058325767517, accuracy: 0.6078167115902965 \n"
     ]
    },
    {
     "name": "stderr",
     "output_type": "stream",
     "text": [
      "Epoch: 100%|███████████████████████████████████████████████████████████| 24/24 [00:02<00:00,  8.19it/s]\n",
      "100%|██████████████████████████████████████████████████████████████████| 24/24 [00:02<00:00,  8.12it/s]\n"
     ]
    },
    {
     "name": "stdout",
     "output_type": "stream",
     "text": [
      "Epoch: 25, loss: 0.657225489616394, accuracy: 0.5977088948787062 \n"
     ]
    },
    {
     "name": "stderr",
     "output_type": "stream",
     "text": [
      "Epoch: 100%|███████████████████████████████████████████████████████████| 24/24 [00:02<00:00,  8.20it/s]\n",
      "100%|██████████████████████████████████████████████████████████████████| 24/24 [00:02<00:00,  8.18it/s]\n"
     ]
    },
    {
     "name": "stdout",
     "output_type": "stream",
     "text": [
      "Epoch: 26, loss: 0.6608021259307861, accuracy: 0.6057951482479784 \n"
     ]
    },
    {
     "name": "stderr",
     "output_type": "stream",
     "text": [
      "Epoch: 100%|███████████████████████████████████████████████████████████| 24/24 [00:02<00:00,  8.23it/s]\n",
      "100%|██████████████████████████████████████████████████████████████████| 24/24 [00:02<00:00,  8.18it/s]\n"
     ]
    },
    {
     "name": "stdout",
     "output_type": "stream",
     "text": [
      "Epoch: 27, loss: 0.6588761210441589, accuracy: 0.6138814016172507 \n"
     ]
    },
    {
     "name": "stderr",
     "output_type": "stream",
     "text": [
      "Epoch: 100%|███████████████████████████████████████████████████████████| 24/24 [00:02<00:00,  8.21it/s]\n",
      "100%|██████████████████████████████████████████████████████████████████| 24/24 [00:02<00:00,  8.15it/s]\n"
     ]
    },
    {
     "name": "stdout",
     "output_type": "stream",
     "text": [
      "Epoch: 28, loss: 0.6564986705780029, accuracy: 0.6152291105121294 \n"
     ]
    },
    {
     "name": "stderr",
     "output_type": "stream",
     "text": [
      "Epoch: 100%|███████████████████████████████████████████████████████████| 24/24 [00:02<00:00,  8.22it/s]\n",
      "100%|██████████████████████████████████████████████████████████████████| 24/24 [00:02<00:00,  8.14it/s]\n"
     ]
    },
    {
     "name": "stdout",
     "output_type": "stream",
     "text": [
      "Epoch: 29, loss: 0.6512054800987244, accuracy: 0.616576819407008 \n"
     ]
    },
    {
     "name": "stderr",
     "output_type": "stream",
     "text": [
      "Epoch: 100%|███████████████████████████████████████████████████████████| 24/24 [00:02<00:00,  8.21it/s]\n",
      "100%|██████████████████████████████████████████████████████████████████| 24/24 [00:02<00:00,  8.18it/s]\n"
     ]
    },
    {
     "name": "stdout",
     "output_type": "stream",
     "text": [
      "Epoch: 30, loss: 0.652900755405426, accuracy: 0.6179245283018868 \n"
     ]
    },
    {
     "name": "stderr",
     "output_type": "stream",
     "text": [
      "Epoch: 100%|███████████████████████████████████████████████████████████| 24/24 [00:02<00:00,  8.25it/s]\n",
      "100%|██████████████████████████████████████████████████████████████████| 24/24 [00:02<00:00,  8.07it/s]\n"
     ]
    },
    {
     "name": "stdout",
     "output_type": "stream",
     "text": [
      "Epoch: 31, loss: 0.6589595675468445, accuracy: 0.6138814016172507 \n"
     ]
    },
    {
     "name": "stderr",
     "output_type": "stream",
     "text": [
      "Epoch: 100%|███████████████████████████████████████████████████████████| 24/24 [00:02<00:00,  8.22it/s]\n",
      "100%|██████████████████████████████████████████████████████████████████| 24/24 [00:02<00:00,  8.17it/s]\n"
     ]
    },
    {
     "name": "stdout",
     "output_type": "stream",
     "text": [
      "Epoch: 32, loss: 0.6472570896148682, accuracy: 0.6172506738544474 \n"
     ]
    },
    {
     "name": "stderr",
     "output_type": "stream",
     "text": [
      "Epoch: 100%|███████████████████████████████████████████████████████████| 24/24 [00:03<00:00,  7.97it/s]\n",
      "100%|██████████████████████████████████████████████████████████████████| 24/24 [00:03<00:00,  7.93it/s]\n"
     ]
    },
    {
     "name": "stdout",
     "output_type": "stream",
     "text": [
      "Epoch: 33, loss: 0.651354193687439, accuracy: 0.6152291105121294 \n"
     ]
    },
    {
     "name": "stderr",
     "output_type": "stream",
     "text": [
      "Epoch: 100%|███████████████████████████████████████████████████████████| 24/24 [00:02<00:00,  8.03it/s]\n",
      "100%|██████████████████████████████████████████████████████████████████| 24/24 [00:02<00:00,  8.12it/s]\n"
     ]
    },
    {
     "name": "stdout",
     "output_type": "stream",
     "text": [
      "Epoch: 34, loss: 0.6502148509025574, accuracy: 0.6320754716981132 \n"
     ]
    },
    {
     "name": "stderr",
     "output_type": "stream",
     "text": [
      "Epoch: 100%|███████████████████████████████████████████████████████████| 24/24 [00:02<00:00,  8.24it/s]\n",
      "100%|██████████████████████████████████████████████████████████████████| 24/24 [00:02<00:00,  8.15it/s]\n"
     ]
    },
    {
     "name": "stdout",
     "output_type": "stream",
     "text": [
      "Epoch: 35, loss: 0.6476567387580872, accuracy: 0.6159029649595688 \n"
     ]
    },
    {
     "name": "stderr",
     "output_type": "stream",
     "text": [
      "Epoch: 100%|███████████████████████████████████████████████████████████| 24/24 [00:02<00:00,  8.20it/s]\n",
      "100%|██████████████████████████████████████████████████████████████████| 24/24 [00:02<00:00,  8.03it/s]\n"
     ]
    },
    {
     "name": "stdout",
     "output_type": "stream",
     "text": [
      "Epoch: 36, loss: 0.654353141784668, accuracy: 0.6287061994609164 \n"
     ]
    },
    {
     "name": "stderr",
     "output_type": "stream",
     "text": [
      "Epoch: 100%|███████████████████████████████████████████████████████████| 24/24 [00:03<00:00,  7.90it/s]\n",
      "100%|██████████████████████████████████████████████████████████████████| 24/24 [00:03<00:00,  7.83it/s]\n"
     ]
    },
    {
     "name": "stdout",
     "output_type": "stream",
     "text": [
      "Epoch: 37, loss: 0.6434697508811951, accuracy: 0.6266846361185984 \n"
     ]
    },
    {
     "name": "stderr",
     "output_type": "stream",
     "text": [
      "Epoch: 100%|███████████████████████████████████████████████████████████| 24/24 [00:03<00:00,  7.85it/s]\n",
      "100%|██████████████████████████████████████████████████████████████████| 24/24 [00:03<00:00,  7.85it/s]\n"
     ]
    },
    {
     "name": "stdout",
     "output_type": "stream",
     "text": [
      "Epoch: 38, loss: 0.6449516415596008, accuracy: 0.6293800539083558 \n"
     ]
    },
    {
     "name": "stderr",
     "output_type": "stream",
     "text": [
      "Epoch: 100%|███████████████████████████████████████████████████████████| 24/24 [00:03<00:00,  7.89it/s]\n",
      "100%|██████████████████████████████████████████████████████████████████| 24/24 [00:03<00:00,  7.84it/s]\n"
     ]
    },
    {
     "name": "stdout",
     "output_type": "stream",
     "text": [
      "Epoch: 39, loss: 0.6433026194572449, accuracy: 0.6293800539083558 \n"
     ]
    },
    {
     "name": "stderr",
     "output_type": "stream",
     "text": [
      "Epoch: 100%|███████████████████████████████████████████████████████████| 24/24 [00:03<00:00,  7.91it/s]\n",
      "100%|██████████████████████████████████████████████████████████████████| 24/24 [00:03<00:00,  7.81it/s]\n"
     ]
    },
    {
     "name": "stdout",
     "output_type": "stream",
     "text": [
      "Epoch: 40, loss: 0.6512844562530518, accuracy: 0.6287061994609164 \n"
     ]
    },
    {
     "name": "stderr",
     "output_type": "stream",
     "text": [
      "Epoch: 100%|███████████████████████████████████████████████████████████| 24/24 [00:02<00:00,  8.03it/s]\n",
      "100%|██████████████████████████████████████████████████████████████████| 24/24 [00:02<00:00,  8.14it/s]\n"
     ]
    },
    {
     "name": "stdout",
     "output_type": "stream",
     "text": [
      "Epoch: 41, loss: 0.6399071216583252, accuracy: 0.6354447439353099 \n"
     ]
    },
    {
     "name": "stderr",
     "output_type": "stream",
     "text": [
      "Epoch: 100%|███████████████████████████████████████████████████████████| 24/24 [00:02<00:00,  8.20it/s]\n",
      "100%|██████████████████████████████████████████████████████████████████| 24/24 [00:02<00:00,  8.13it/s]\n"
     ]
    },
    {
     "name": "stdout",
     "output_type": "stream",
     "text": [
      "Epoch: 42, loss: 0.6438491344451904, accuracy: 0.6327493261455526 \n"
     ]
    },
    {
     "name": "stderr",
     "output_type": "stream",
     "text": [
      "Epoch: 100%|███████████████████████████████████████████████████████████| 24/24 [00:02<00:00,  8.14it/s]\n",
      "100%|██████████████████████████████████████████████████████████████████| 24/24 [00:02<00:00,  8.17it/s]\n"
     ]
    },
    {
     "name": "stdout",
     "output_type": "stream",
     "text": [
      "Epoch: 43, loss: 0.6416720151901245, accuracy: 0.6361185983827493 \n"
     ]
    },
    {
     "name": "stderr",
     "output_type": "stream",
     "text": [
      "Epoch: 100%|███████████████████████████████████████████████████████████| 24/24 [00:02<00:00,  8.20it/s]\n",
      "100%|██████████████████████████████████████████████████████████████████| 24/24 [00:02<00:00,  8.15it/s]\n"
     ]
    },
    {
     "name": "stdout",
     "output_type": "stream",
     "text": [
      "Epoch: 44, loss: 0.6433395743370056, accuracy: 0.6340970350404312 \n"
     ]
    },
    {
     "name": "stderr",
     "output_type": "stream",
     "text": [
      "Epoch: 100%|███████████████████████████████████████████████████████████| 24/24 [00:02<00:00,  8.23it/s]\n",
      "100%|██████████████████████████████████████████████████████████████████| 24/24 [00:02<00:00,  8.15it/s]\n"
     ]
    },
    {
     "name": "stdout",
     "output_type": "stream",
     "text": [
      "Epoch: 45, loss: 0.6373270153999329, accuracy: 0.6415094339622641 \n"
     ]
    },
    {
     "name": "stderr",
     "output_type": "stream",
     "text": [
      "Epoch: 100%|███████████████████████████████████████████████████████████| 24/24 [00:02<00:00,  8.16it/s]\n",
      "100%|██████████████████████████████████████████████████████████████████| 24/24 [00:02<00:00,  8.15it/s]\n"
     ]
    },
    {
     "name": "stdout",
     "output_type": "stream",
     "text": [
      "Epoch: 46, loss: 0.6392654776573181, accuracy: 0.6455525606469003 \n"
     ]
    },
    {
     "name": "stderr",
     "output_type": "stream",
     "text": [
      "Epoch: 100%|███████████████████████████████████████████████████████████| 24/24 [00:02<00:00,  8.22it/s]\n",
      "100%|██████████████████████████████████████████████████████████████████| 24/24 [00:02<00:00,  8.15it/s]\n"
     ]
    },
    {
     "name": "stdout",
     "output_type": "stream",
     "text": [
      "Epoch: 47, loss: 0.6379823088645935, accuracy: 0.6435309973045822 \n"
     ]
    },
    {
     "name": "stderr",
     "output_type": "stream",
     "text": [
      "Epoch: 100%|███████████████████████████████████████████████████████████| 24/24 [00:02<00:00,  8.16it/s]\n",
      "100%|██████████████████████████████████████████████████████████████████| 24/24 [00:02<00:00,  8.15it/s]\n"
     ]
    },
    {
     "name": "stdout",
     "output_type": "stream",
     "text": [
      "Epoch: 48, loss: 0.6377567648887634, accuracy: 0.644878706199461 \n"
     ]
    },
    {
     "name": "stderr",
     "output_type": "stream",
     "text": [
      "Epoch: 100%|███████████████████████████████████████████████████████████| 24/24 [00:02<00:00,  8.18it/s]\n",
      "100%|██████████████████████████████████████████████████████████████████| 24/24 [00:02<00:00,  8.13it/s]\n"
     ]
    },
    {
     "name": "stdout",
     "output_type": "stream",
     "text": [
      "Epoch: 49, loss: 0.6373374462127686, accuracy: 0.6415094339622641 \n"
     ]
    },
    {
     "name": "stderr",
     "output_type": "stream",
     "text": [
      "Epoch: 100%|███████████████████████████████████████████████████████████| 24/24 [00:02<00:00,  8.20it/s]\n",
      "100%|██████████████████████████████████████████████████████████████████| 24/24 [00:02<00:00,  8.10it/s]\n"
     ]
    },
    {
     "name": "stdout",
     "output_type": "stream",
     "text": [
      "Epoch: 50, loss: 0.6488876342773438, accuracy: 0.639487870619946 \n"
     ]
    },
    {
     "name": "stderr",
     "output_type": "stream",
     "text": [
      "Epoch: 100%|███████████████████████████████████████████████████████████| 24/24 [00:02<00:00,  8.17it/s]\n",
      "100%|██████████████████████████████████████████████████████████████████| 24/24 [00:02<00:00,  8.12it/s]\n"
     ]
    },
    {
     "name": "stdout",
     "output_type": "stream",
     "text": [
      "Epoch: 51, loss: 0.6381906867027283, accuracy: 0.6442048517520216 \n"
     ]
    },
    {
     "name": "stderr",
     "output_type": "stream",
     "text": [
      "Epoch: 100%|███████████████████████████████████████████████████████████| 24/24 [00:02<00:00,  8.20it/s]\n",
      "100%|██████████████████████████████████████████████████████████████████| 24/24 [00:02<00:00,  8.13it/s]\n"
     ]
    },
    {
     "name": "stdout",
     "output_type": "stream",
     "text": [
      "Epoch: 52, loss: 0.6318405270576477, accuracy: 0.639487870619946 \n"
     ]
    },
    {
     "name": "stderr",
     "output_type": "stream",
     "text": [
      "Epoch: 100%|███████████████████████████████████████████████████████████| 24/24 [00:02<00:00,  8.12it/s]\n",
      "100%|██████████████████████████████████████████████████████████████████| 24/24 [00:02<00:00,  8.13it/s]\n"
     ]
    },
    {
     "name": "stdout",
     "output_type": "stream",
     "text": [
      "Epoch: 53, loss: 0.6332295536994934, accuracy: 0.6421832884097035 \n"
     ]
    },
    {
     "name": "stderr",
     "output_type": "stream",
     "text": [
      "Epoch: 100%|███████████████████████████████████████████████████████████| 24/24 [00:02<00:00,  8.18it/s]\n",
      "100%|██████████████████████████████████████████████████████████████████| 24/24 [00:02<00:00,  8.10it/s]\n"
     ]
    },
    {
     "name": "stdout",
     "output_type": "stream",
     "text": [
      "Epoch: 54, loss: 0.6309919953346252, accuracy: 0.6408355795148248 \n"
     ]
    },
    {
     "name": "stderr",
     "output_type": "stream",
     "text": [
      "Epoch: 100%|███████████████████████████████████████████████████████████| 24/24 [00:02<00:00,  8.01it/s]\n",
      "100%|██████████████████████████████████████████████████████████████████| 24/24 [00:03<00:00,  7.88it/s]\n"
     ]
    },
    {
     "name": "stdout",
     "output_type": "stream",
     "text": [
      "Epoch: 55, loss: 0.6326720118522644, accuracy: 0.6388140161725068 \n"
     ]
    },
    {
     "name": "stderr",
     "output_type": "stream",
     "text": [
      "Epoch: 100%|███████████████████████████████████████████████████████████| 24/24 [00:02<00:00,  8.08it/s]\n",
      "100%|██████████████████████████████████████████████████████████████████| 24/24 [00:02<00:00,  8.09it/s]\n"
     ]
    },
    {
     "name": "stdout",
     "output_type": "stream",
     "text": [
      "Epoch: 56, loss: 0.6321146488189697, accuracy: 0.639487870619946 \n"
     ]
    },
    {
     "name": "stderr",
     "output_type": "stream",
     "text": [
      "Epoch: 100%|███████████████████████████████████████████████████████████| 24/24 [00:02<00:00,  8.18it/s]\n",
      "100%|██████████████████████████████████████████████████████████████████| 24/24 [00:02<00:00,  8.17it/s]\n"
     ]
    },
    {
     "name": "stdout",
     "output_type": "stream",
     "text": [
      "Epoch: 57, loss: 0.6287181973457336, accuracy: 0.6415094339622641 \n"
     ]
    },
    {
     "name": "stderr",
     "output_type": "stream",
     "text": [
      "Epoch: 100%|███████████████████████████████████████████████████████████| 24/24 [00:02<00:00,  8.16it/s]\n",
      "100%|██████████████████████████████████████████████████████████████████| 24/24 [00:02<00:00,  8.16it/s]\n"
     ]
    },
    {
     "name": "stdout",
     "output_type": "stream",
     "text": [
      "Epoch: 58, loss: 0.6444814801216125, accuracy: 0.6637466307277629 \n"
     ]
    },
    {
     "name": "stderr",
     "output_type": "stream",
     "text": [
      "Epoch: 100%|███████████████████████████████████████████████████████████| 24/24 [00:02<00:00,  8.16it/s]\n",
      "100%|██████████████████████████████████████████████████████████████████| 24/24 [00:02<00:00,  8.11it/s]\n"
     ]
    },
    {
     "name": "stdout",
     "output_type": "stream",
     "text": [
      "Epoch: 59, loss: 0.6333809494972229, accuracy: 0.637466307277628 \n"
     ]
    },
    {
     "name": "stderr",
     "output_type": "stream",
     "text": [
      "Epoch: 100%|███████████████████████████████████████████████████████████| 24/24 [00:02<00:00,  8.17it/s]\n",
      "100%|██████████████████████████████████████████████████████████████████| 24/24 [00:02<00:00,  8.16it/s]\n"
     ]
    },
    {
     "name": "stdout",
     "output_type": "stream",
     "text": [
      "Epoch: 60, loss: 0.6416104435920715, accuracy: 0.6408355795148248 \n"
     ]
    },
    {
     "name": "stderr",
     "output_type": "stream",
     "text": [
      "Epoch: 100%|███████████████████████████████████████████████████████████| 24/24 [00:02<00:00,  8.22it/s]\n",
      "100%|██████████████████████████████████████████████████████████████████| 24/24 [00:02<00:00,  8.18it/s]\n"
     ]
    },
    {
     "name": "stdout",
     "output_type": "stream",
     "text": [
      "Epoch: 61, loss: 0.6375064849853516, accuracy: 0.6401617250673854 \n"
     ]
    },
    {
     "name": "stderr",
     "output_type": "stream",
     "text": [
      "Epoch: 100%|███████████████████████████████████████████████████████████| 24/24 [00:02<00:00,  8.21it/s]\n",
      "100%|██████████████████████████████████████████████████████████████████| 24/24 [00:02<00:00,  8.17it/s]\n"
     ]
    },
    {
     "name": "stdout",
     "output_type": "stream",
     "text": [
      "Epoch: 62, loss: 0.6301333904266357, accuracy: 0.6381401617250674 \n"
     ]
    },
    {
     "name": "stderr",
     "output_type": "stream",
     "text": [
      "Epoch: 100%|███████████████████████████████████████████████████████████| 24/24 [00:02<00:00,  8.22it/s]\n",
      "100%|██████████████████████████████████████████████████████████████████| 24/24 [00:02<00:00,  8.15it/s]\n"
     ]
    },
    {
     "name": "stdout",
     "output_type": "stream",
     "text": [
      "Epoch: 63, loss: 0.6338327527046204, accuracy: 0.6354447439353099 \n"
     ]
    },
    {
     "name": "stderr",
     "output_type": "stream",
     "text": [
      "Epoch: 100%|███████████████████████████████████████████████████████████| 24/24 [00:02<00:00,  8.17it/s]\n",
      "100%|██████████████████████████████████████████████████████████████████| 24/24 [00:02<00:00,  8.17it/s]\n"
     ]
    },
    {
     "name": "stdout",
     "output_type": "stream",
     "text": [
      "Epoch: 64, loss: 0.6339113116264343, accuracy: 0.660377358490566 \n"
     ]
    },
    {
     "name": "stderr",
     "output_type": "stream",
     "text": [
      "Epoch: 100%|███████████████████████████████████████████████████████████| 24/24 [00:02<00:00,  8.15it/s]\n",
      "100%|██████████████████████████████████████████████████████████████████| 24/24 [00:02<00:00,  8.16it/s]\n"
     ]
    },
    {
     "name": "stdout",
     "output_type": "stream",
     "text": [
      "Epoch: 65, loss: 0.6377373337745667, accuracy: 0.6644204851752021 \n"
     ]
    },
    {
     "name": "stderr",
     "output_type": "stream",
     "text": [
      "Epoch: 100%|███████████████████████████████████████████████████████████| 24/24 [00:02<00:00,  8.22it/s]\n",
      "100%|██████████████████████████████████████████████████████████████████| 24/24 [00:02<00:00,  8.13it/s]\n"
     ]
    },
    {
     "name": "stdout",
     "output_type": "stream",
     "text": [
      "Epoch: 66, loss: 0.6303719878196716, accuracy: 0.6617250673854448 \n"
     ]
    },
    {
     "name": "stderr",
     "output_type": "stream",
     "text": [
      "Epoch: 100%|███████████████████████████████████████████████████████████| 24/24 [00:02<00:00,  8.22it/s]\n",
      "100%|██████████████████████████████████████████████████████████████████| 24/24 [00:02<00:00,  8.13it/s]\n"
     ]
    },
    {
     "name": "stdout",
     "output_type": "stream",
     "text": [
      "Epoch: 67, loss: 0.6353573203086853, accuracy: 0.6495956873315364 \n"
     ]
    },
    {
     "name": "stderr",
     "output_type": "stream",
     "text": [
      "Epoch: 100%|███████████████████████████████████████████████████████████| 24/24 [00:02<00:00,  8.16it/s]\n",
      "100%|██████████████████████████████████████████████████████████████████| 24/24 [00:02<00:00,  8.12it/s]\n"
     ]
    },
    {
     "name": "stdout",
     "output_type": "stream",
     "text": [
      "Epoch: 68, loss: 0.6348567008972168, accuracy: 0.6637466307277629 \n"
     ]
    },
    {
     "name": "stderr",
     "output_type": "stream",
     "text": [
      "Epoch: 100%|███████████████████████████████████████████████████████████| 24/24 [00:02<00:00,  8.19it/s]\n",
      "100%|██████████████████████████████████████████████████████████████████| 24/24 [00:02<00:00,  8.15it/s]\n"
     ]
    },
    {
     "name": "stdout",
     "output_type": "stream",
     "text": [
      "Epoch: 69, loss: 0.6316742300987244, accuracy: 0.6590296495956873 \n"
     ]
    },
    {
     "name": "stderr",
     "output_type": "stream",
     "text": [
      "Epoch: 100%|███████████████████████████████████████████████████████████| 24/24 [00:02<00:00,  8.14it/s]\n",
      "100%|██████████████████████████████████████████████████████████████████| 24/24 [00:02<00:00,  8.19it/s]\n"
     ]
    },
    {
     "name": "stdout",
     "output_type": "stream",
     "text": [
      "Epoch: 70, loss: 0.6277176737785339, accuracy: 0.6650943396226415 \n"
     ]
    },
    {
     "name": "stderr",
     "output_type": "stream",
     "text": [
      "Epoch: 100%|███████████████████████████████████████████████████████████| 24/24 [00:02<00:00,  8.13it/s]\n",
      "100%|██████████████████████████████████████████████████████████████████| 24/24 [00:02<00:00,  8.17it/s]\n"
     ]
    },
    {
     "name": "stdout",
     "output_type": "stream",
     "text": [
      "Epoch: 71, loss: 0.6304381489753723, accuracy: 0.6630727762803235 \n"
     ]
    },
    {
     "name": "stderr",
     "output_type": "stream",
     "text": [
      "Epoch: 100%|███████████████████████████████████████████████████████████| 24/24 [00:02<00:00,  8.20it/s]\n",
      "100%|██████████████████████████████████████████████████████████████████| 24/24 [00:02<00:00,  8.12it/s]\n"
     ]
    },
    {
     "name": "stdout",
     "output_type": "stream",
     "text": [
      "Epoch: 72, loss: 0.6316037178039551, accuracy: 0.6556603773584906 \n"
     ]
    },
    {
     "name": "stderr",
     "output_type": "stream",
     "text": [
      "Epoch: 100%|███████████████████████████████████████████████████████████| 24/24 [00:02<00:00,  8.15it/s]\n",
      "100%|██████████████████████████████████████████████████████████████████| 24/24 [00:02<00:00,  8.09it/s]\n"
     ]
    },
    {
     "name": "stdout",
     "output_type": "stream",
     "text": [
      "Epoch: 73, loss: 0.6402930617332458, accuracy: 0.6637466307277629 \n"
     ]
    },
    {
     "name": "stderr",
     "output_type": "stream",
     "text": [
      "Epoch: 100%|███████████████████████████████████████████████████████████| 24/24 [00:02<00:00,  8.15it/s]\n",
      "100%|██████████████████████████████████████████████████████████████████| 24/24 [00:02<00:00,  8.15it/s]\n"
     ]
    },
    {
     "name": "stdout",
     "output_type": "stream",
     "text": [
      "Epoch: 74, loss: 0.6291278004646301, accuracy: 0.6516172506738545 \n"
     ]
    },
    {
     "name": "stderr",
     "output_type": "stream",
     "text": [
      "Epoch: 100%|███████████████████████████████████████████████████████████| 24/24 [00:02<00:00,  8.16it/s]\n",
      "100%|██████████████████████████████████████████████████████████████████| 24/24 [00:02<00:00,  8.16it/s]\n"
     ]
    },
    {
     "name": "stdout",
     "output_type": "stream",
     "text": [
      "Epoch: 75, loss: 0.630979597568512, accuracy: 0.6617250673854448 \n"
     ]
    },
    {
     "name": "stderr",
     "output_type": "stream",
     "text": [
      "Epoch: 100%|███████████████████████████████████████████████████████████| 24/24 [00:02<00:00,  8.16it/s]\n",
      "100%|██████████████████████████████████████████████████████████████████| 24/24 [00:02<00:00,  8.16it/s]\n"
     ]
    },
    {
     "name": "stdout",
     "output_type": "stream",
     "text": [
      "Epoch: 76, loss: 0.6341509819030762, accuracy: 0.6644204851752021 \n"
     ]
    },
    {
     "name": "stderr",
     "output_type": "stream",
     "text": [
      "Epoch: 100%|███████████████████████████████████████████████████████████| 24/24 [00:02<00:00,  8.21it/s]\n",
      "100%|██████████████████████████████████████████████████████████████████| 24/24 [00:02<00:00,  8.15it/s]\n"
     ]
    },
    {
     "name": "stdout",
     "output_type": "stream",
     "text": [
      "Epoch: 77, loss: 0.6244522929191589, accuracy: 0.6630727762803235 \n"
     ]
    },
    {
     "name": "stderr",
     "output_type": "stream",
     "text": [
      "Epoch: 100%|███████████████████████████████████████████████████████████| 24/24 [00:02<00:00,  8.19it/s]\n",
      "100%|██████████████████████████████████████████████████████████████████| 24/24 [00:02<00:00,  8.16it/s]\n"
     ]
    },
    {
     "name": "stdout",
     "output_type": "stream",
     "text": [
      "Epoch: 78, loss: 0.6303889155387878, accuracy: 0.6684636118598383 \n"
     ]
    },
    {
     "name": "stderr",
     "output_type": "stream",
     "text": [
      "Epoch: 100%|███████████████████████████████████████████████████████████| 24/24 [00:02<00:00,  8.14it/s]\n",
      "100%|██████████████████████████████████████████████████████████████████| 24/24 [00:02<00:00,  8.15it/s]\n"
     ]
    },
    {
     "name": "stdout",
     "output_type": "stream",
     "text": [
      "Epoch: 79, loss: 0.6335872411727905, accuracy: 0.6630727762803235 \n"
     ]
    },
    {
     "name": "stderr",
     "output_type": "stream",
     "text": [
      "Epoch: 100%|███████████████████████████████████████████████████████████| 24/24 [00:02<00:00,  8.19it/s]\n",
      "100%|██████████████████████████████████████████████████████████████████| 24/24 [00:02<00:00,  8.15it/s]\n"
     ]
    },
    {
     "name": "stdout",
     "output_type": "stream",
     "text": [
      "Epoch: 80, loss: 0.6266137957572937, accuracy: 0.6610512129380054 \n"
     ]
    },
    {
     "name": "stderr",
     "output_type": "stream",
     "text": [
      "Epoch: 100%|███████████████████████████████████████████████████████████| 24/24 [00:02<00:00,  8.20it/s]\n",
      "100%|██████████████████████████████████████████████████████████████████| 24/24 [00:02<00:00,  8.14it/s]\n"
     ]
    },
    {
     "name": "stdout",
     "output_type": "stream",
     "text": [
      "Epoch: 81, loss: 0.6247904300689697, accuracy: 0.660377358490566 \n"
     ]
    },
    {
     "name": "stderr",
     "output_type": "stream",
     "text": [
      "Epoch: 100%|███████████████████████████████████████████████████████████| 24/24 [00:02<00:00,  8.17it/s]\n",
      "100%|██████████████████████████████████████████████████████████████████| 24/24 [00:02<00:00,  8.17it/s]\n"
     ]
    },
    {
     "name": "stdout",
     "output_type": "stream",
     "text": [
      "Epoch: 82, loss: 0.6270769238471985, accuracy: 0.6630727762803235 \n"
     ]
    },
    {
     "name": "stderr",
     "output_type": "stream",
     "text": [
      "Epoch: 100%|███████████████████████████████████████████████████████████| 24/24 [00:02<00:00,  8.18it/s]\n",
      "100%|██████████████████████████████████████████████████████████████████| 24/24 [00:02<00:00,  8.16it/s]\n"
     ]
    },
    {
     "name": "stdout",
     "output_type": "stream",
     "text": [
      "Epoch: 83, loss: 0.6250141263008118, accuracy: 0.6623989218328841 \n"
     ]
    },
    {
     "name": "stderr",
     "output_type": "stream",
     "text": [
      "Epoch: 100%|███████████████████████████████████████████████████████████| 24/24 [00:02<00:00,  8.14it/s]\n",
      "100%|██████████████████████████████████████████████████████████████████| 24/24 [00:02<00:00,  8.14it/s]\n"
     ]
    },
    {
     "name": "stdout",
     "output_type": "stream",
     "text": [
      "Epoch: 84, loss: 0.6244651675224304, accuracy: 0.6671159029649596 \n"
     ]
    },
    {
     "name": "stderr",
     "output_type": "stream",
     "text": [
      "Epoch: 100%|███████████████████████████████████████████████████████████| 24/24 [00:02<00:00,  8.16it/s]\n",
      "100%|██████████████████████████████████████████████████████████████████| 24/24 [00:02<00:00,  8.14it/s]\n"
     ]
    },
    {
     "name": "stdout",
     "output_type": "stream",
     "text": [
      "Epoch: 85, loss: 0.6250261664390564, accuracy: 0.6617250673854448 \n"
     ]
    },
    {
     "name": "stderr",
     "output_type": "stream",
     "text": [
      "Epoch: 100%|███████████████████████████████████████████████████████████| 24/24 [00:02<00:00,  8.23it/s]\n",
      "100%|██████████████████████████████████████████████████████████████████| 24/24 [00:02<00:00,  8.13it/s]\n"
     ]
    },
    {
     "name": "stdout",
     "output_type": "stream",
     "text": [
      "Epoch: 86, loss: 0.6339862942695618, accuracy: 0.6684636118598383 \n"
     ]
    },
    {
     "name": "stderr",
     "output_type": "stream",
     "text": [
      "Epoch: 100%|███████████████████████████████████████████████████████████| 24/24 [00:02<00:00,  8.18it/s]\n",
      "100%|██████████████████████████████████████████████████████████████████| 24/24 [00:02<00:00,  8.14it/s]\n"
     ]
    },
    {
     "name": "stdout",
     "output_type": "stream",
     "text": [
      "Epoch: 87, loss: 0.6306741833686829, accuracy: 0.6650943396226415 \n"
     ]
    },
    {
     "name": "stderr",
     "output_type": "stream",
     "text": [
      "Epoch: 100%|███████████████████████████████████████████████████████████| 24/24 [00:02<00:00,  8.14it/s]\n",
      "100%|██████████████████████████████████████████████████████████████████| 24/24 [00:02<00:00,  8.13it/s]\n"
     ]
    },
    {
     "name": "stdout",
     "output_type": "stream",
     "text": [
      "Epoch: 88, loss: 0.6324021816253662, accuracy: 0.6650943396226415 \n"
     ]
    },
    {
     "name": "stderr",
     "output_type": "stream",
     "text": [
      "Epoch: 100%|███████████████████████████████████████████████████████████| 24/24 [00:02<00:00,  8.18it/s]\n",
      "100%|██████████████████████████████████████████████████████████████████| 24/24 [00:02<00:00,  8.16it/s]\n"
     ]
    },
    {
     "name": "stdout",
     "output_type": "stream",
     "text": [
      "Epoch: 89, loss: 0.6397424936294556, accuracy: 0.6664420485175202 \n"
     ]
    },
    {
     "name": "stderr",
     "output_type": "stream",
     "text": [
      "Epoch: 100%|███████████████████████████████████████████████████████████| 24/24 [00:02<00:00,  8.05it/s]\n",
      "100%|██████████████████████████████████████████████████████████████████| 24/24 [00:03<00:00,  7.89it/s]\n"
     ]
    },
    {
     "name": "stdout",
     "output_type": "stream",
     "text": [
      "Epoch: 90, loss: 0.6287014484405518, accuracy: 0.6623989218328841 \n"
     ]
    },
    {
     "name": "stderr",
     "output_type": "stream",
     "text": [
      "Epoch: 100%|███████████████████████████████████████████████████████████| 24/24 [00:03<00:00,  7.91it/s]\n",
      "100%|██████████████████████████████████████████████████████████████████| 24/24 [00:03<00:00,  7.98it/s]\n"
     ]
    },
    {
     "name": "stdout",
     "output_type": "stream",
     "text": [
      "Epoch: 91, loss: 0.6310910582542419, accuracy: 0.6691374663072777 \n"
     ]
    },
    {
     "name": "stderr",
     "output_type": "stream",
     "text": [
      "Epoch: 100%|███████████████████████████████████████████████████████████| 24/24 [00:02<00:00,  8.22it/s]\n",
      "100%|██████████████████████████████████████████████████████████████████| 24/24 [00:02<00:00,  8.16it/s]\n"
     ]
    },
    {
     "name": "stdout",
     "output_type": "stream",
     "text": [
      "Epoch: 92, loss: 0.6339109539985657, accuracy: 0.6623989218328841 \n"
     ]
    },
    {
     "name": "stderr",
     "output_type": "stream",
     "text": [
      "Epoch: 100%|███████████████████████████████████████████████████████████| 24/24 [00:02<00:00,  8.23it/s]\n",
      "100%|██████████████████████████████████████████████████████████████████| 24/24 [00:02<00:00,  8.09it/s]\n"
     ]
    },
    {
     "name": "stdout",
     "output_type": "stream",
     "text": [
      "Epoch: 93, loss: 0.628742516040802, accuracy: 0.6597035040431267 \n"
     ]
    },
    {
     "name": "stderr",
     "output_type": "stream",
     "text": [
      "Epoch: 100%|███████████████████████████████████████████████████████████| 24/24 [00:02<00:00,  8.21it/s]\n",
      "100%|██████████████████████████████████████████████████████████████████| 24/24 [00:02<00:00,  8.16it/s]\n"
     ]
    },
    {
     "name": "stdout",
     "output_type": "stream",
     "text": [
      "Epoch: 94, loss: 0.6255896091461182, accuracy: 0.6650943396226415 \n"
     ]
    },
    {
     "name": "stderr",
     "output_type": "stream",
     "text": [
      "Epoch: 100%|███████████████████████████████████████████████████████████| 24/24 [00:02<00:00,  8.18it/s]\n",
      "100%|██████████████████████████████████████████████████████████████████| 24/24 [00:02<00:00,  8.14it/s]\n"
     ]
    },
    {
     "name": "stdout",
     "output_type": "stream",
     "text": [
      "Epoch: 95, loss: 0.6324217915534973, accuracy: 0.6684636118598383 \n"
     ]
    },
    {
     "name": "stderr",
     "output_type": "stream",
     "text": [
      "Epoch: 100%|███████████████████████████████████████████████████████████| 24/24 [00:02<00:00,  8.19it/s]\n",
      "100%|██████████████████████████████████████████████████████████████████| 24/24 [00:02<00:00,  8.13it/s]\n"
     ]
    },
    {
     "name": "stdout",
     "output_type": "stream",
     "text": [
      "Epoch: 96, loss: 0.6304486393928528, accuracy: 0.6671159029649596 \n"
     ]
    },
    {
     "name": "stderr",
     "output_type": "stream",
     "text": [
      "Epoch: 100%|███████████████████████████████████████████████████████████| 24/24 [00:02<00:00,  8.20it/s]\n",
      "100%|██████████████████████████████████████████████████████████████████| 24/24 [00:02<00:00,  8.16it/s]\n"
     ]
    },
    {
     "name": "stdout",
     "output_type": "stream",
     "text": [
      "Epoch: 97, loss: 0.6264424920082092, accuracy: 0.6650943396226415 \n"
     ]
    },
    {
     "name": "stderr",
     "output_type": "stream",
     "text": [
      "Epoch: 100%|███████████████████████████████████████████████████████████| 24/24 [00:02<00:00,  8.22it/s]\n",
      "100%|██████████████████████████████████████████████████████████████████| 24/24 [00:02<00:00,  8.16it/s]\n"
     ]
    },
    {
     "name": "stdout",
     "output_type": "stream",
     "text": [
      "Epoch: 98, loss: 0.6357836127281189, accuracy: 0.6650943396226415 \n"
     ]
    },
    {
     "name": "stderr",
     "output_type": "stream",
     "text": [
      "Epoch: 100%|███████████████████████████████████████████████████████████| 24/24 [00:02<00:00,  8.17it/s]\n",
      "100%|██████████████████████████████████████████████████████████████████| 24/24 [00:02<00:00,  8.17it/s]\n"
     ]
    },
    {
     "name": "stdout",
     "output_type": "stream",
     "text": [
      "Epoch: 99, loss: 0.6361289024353027, accuracy: 0.6637466307277629 \n"
     ]
    },
    {
     "data": {
      "text/html": [
       " View run <strong style=\"color:#cdcd00\">fallen-wildflower-76</strong> at: <a href='https://wandb.ai/fitzelproj/fitzel1/runs/jqxozdcv' target=\"_blank\">https://wandb.ai/fitzelproj/fitzel1/runs/jqxozdcv</a><br/> View project at: <a href='https://wandb.ai/fitzelproj/fitzel1' target=\"_blank\">https://wandb.ai/fitzelproj/fitzel1</a><br/>Synced 5 W&B file(s), 0 media file(s), 0 artifact file(s) and 0 other file(s)"
      ],
      "text/plain": [
       "<IPython.core.display.HTML object>"
      ]
     },
     "metadata": {},
     "output_type": "display_data"
    }
   ],
   "source": [
    "train_mlp()"
   ]
  },
  {
   "cell_type": "code",
   "execution_count": null,
   "id": "00f560bb",
   "metadata": {},
   "outputs": [],
   "source": []
  }
 ],
 "metadata": {
  "kernelspec": {
   "display_name": "Python 3 (ipykernel)",
   "language": "python",
   "name": "python3"
  },
  "language_info": {
   "codemirror_mode": {
    "name": "ipython",
    "version": 3
   },
   "file_extension": ".py",
   "mimetype": "text/x-python",
   "name": "python",
   "nbconvert_exporter": "python",
   "pygments_lexer": "ipython3",
   "version": "3.11.5"
  }
 },
 "nbformat": 4,
 "nbformat_minor": 5
}
